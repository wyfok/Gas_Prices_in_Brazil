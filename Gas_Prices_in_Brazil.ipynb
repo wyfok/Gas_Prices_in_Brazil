{
 "cells": [
  {
   "cell_type": "markdown",
   "metadata": {},
   "source": [
    "# Gas Prices in Brazil"
   ]
  },
  {
   "cell_type": "markdown",
   "metadata": {},
   "source": [
    "What can be done with this?\n",
    "<br>How different regions of Brazil saw their gas prices change?\n",
    "<br>Within a region, which states increased more their prices?\n",
    "<br>Which states are the cheapest (or most expensive) for different types of fuels?"
   ]
  },
  {
   "cell_type": "code",
   "execution_count": 1,
   "metadata": {},
   "outputs": [],
   "source": [
    "%matplotlib inline\n",
    "import numpy as np \n",
    "import pandas as pd \n",
    "import matplotlib.pyplot as plt \n",
    "import seaborn as sns "
   ]
  },
  {
   "cell_type": "code",
   "execution_count": 2,
   "metadata": {},
   "outputs": [],
   "source": [
    "data=pd.read_csv('2004-2019.csv', sep='\\t',parse_dates=[1,2],index_col=0)"
   ]
  },
  {
   "cell_type": "code",
   "execution_count": 3,
   "metadata": {},
   "outputs": [
    {
     "data": {
      "text/plain": [
       "(106823, 20)"
      ]
     },
     "execution_count": 3,
     "metadata": {},
     "output_type": "execute_result"
    }
   ],
   "source": [
    "data.shape"
   ]
  },
  {
   "cell_type": "code",
   "execution_count": 4,
   "metadata": {},
   "outputs": [
    {
     "data": {
      "text/html": [
       "<div>\n",
       "<style scoped>\n",
       "    .dataframe tbody tr th:only-of-type {\n",
       "        vertical-align: middle;\n",
       "    }\n",
       "\n",
       "    .dataframe tbody tr th {\n",
       "        vertical-align: top;\n",
       "    }\n",
       "\n",
       "    .dataframe thead th {\n",
       "        text-align: right;\n",
       "    }\n",
       "</style>\n",
       "<table border=\"1\" class=\"dataframe\">\n",
       "  <thead>\n",
       "    <tr style=\"text-align: right;\">\n",
       "      <th></th>\n",
       "      <th>DATA INICIAL</th>\n",
       "      <th>DATA FINAL</th>\n",
       "      <th>REGIÃO</th>\n",
       "      <th>ESTADO</th>\n",
       "      <th>PRODUTO</th>\n",
       "      <th>NÚMERO DE POSTOS PESQUISADOS</th>\n",
       "      <th>UNIDADE DE MEDIDA</th>\n",
       "      <th>PREÇO MÉDIO REVENDA</th>\n",
       "      <th>DESVIO PADRÃO REVENDA</th>\n",
       "      <th>PREÇO MÍNIMO REVENDA</th>\n",
       "      <th>PREÇO MÁXIMO REVENDA</th>\n",
       "      <th>MARGEM MÉDIA REVENDA</th>\n",
       "      <th>COEF DE VARIAÇÃO REVENDA</th>\n",
       "      <th>PREÇO MÉDIO DISTRIBUIÇÃO</th>\n",
       "      <th>DESVIO PADRÃO DISTRIBUIÇÃO</th>\n",
       "      <th>PREÇO MÍNIMO DISTRIBUIÇÃO</th>\n",
       "      <th>PREÇO MÁXIMO DISTRIBUIÇÃO</th>\n",
       "      <th>COEF DE VARIAÇÃO DISTRIBUIÇÃO</th>\n",
       "      <th>MÊS</th>\n",
       "      <th>ANO</th>\n",
       "    </tr>\n",
       "  </thead>\n",
       "  <tbody>\n",
       "    <tr>\n",
       "      <th>0</th>\n",
       "      <td>2004-05-09</td>\n",
       "      <td>2004-05-15</td>\n",
       "      <td>CENTRO OESTE</td>\n",
       "      <td>DISTRITO FEDERAL</td>\n",
       "      <td>ETANOL HIDRATADO</td>\n",
       "      <td>127</td>\n",
       "      <td>R$/l</td>\n",
       "      <td>1.288</td>\n",
       "      <td>0.016</td>\n",
       "      <td>1.19</td>\n",
       "      <td>1.350</td>\n",
       "      <td>0.463</td>\n",
       "      <td>0.012</td>\n",
       "      <td>0.825</td>\n",
       "      <td>0.11</td>\n",
       "      <td>0.4201</td>\n",
       "      <td>0.9666</td>\n",
       "      <td>0.133</td>\n",
       "      <td>5</td>\n",
       "      <td>2004</td>\n",
       "    </tr>\n",
       "    <tr>\n",
       "      <th>1</th>\n",
       "      <td>2004-05-09</td>\n",
       "      <td>2004-05-15</td>\n",
       "      <td>CENTRO OESTE</td>\n",
       "      <td>GOIAS</td>\n",
       "      <td>ETANOL HIDRATADO</td>\n",
       "      <td>387</td>\n",
       "      <td>R$/l</td>\n",
       "      <td>1.162</td>\n",
       "      <td>0.114</td>\n",
       "      <td>0.89</td>\n",
       "      <td>1.449</td>\n",
       "      <td>0.399</td>\n",
       "      <td>0.098</td>\n",
       "      <td>0.763</td>\n",
       "      <td>0.088</td>\n",
       "      <td>0.5013</td>\n",
       "      <td>1.05</td>\n",
       "      <td>0.115</td>\n",
       "      <td>5</td>\n",
       "      <td>2004</td>\n",
       "    </tr>\n",
       "    <tr>\n",
       "      <th>2</th>\n",
       "      <td>2004-05-09</td>\n",
       "      <td>2004-05-15</td>\n",
       "      <td>CENTRO OESTE</td>\n",
       "      <td>MATO GROSSO</td>\n",
       "      <td>ETANOL HIDRATADO</td>\n",
       "      <td>192</td>\n",
       "      <td>R$/l</td>\n",
       "      <td>1.389</td>\n",
       "      <td>0.097</td>\n",
       "      <td>1.18</td>\n",
       "      <td>1.760</td>\n",
       "      <td>0.419</td>\n",
       "      <td>0.070</td>\n",
       "      <td>0.97</td>\n",
       "      <td>0.095</td>\n",
       "      <td>0.5614</td>\n",
       "      <td>1.161</td>\n",
       "      <td>0.098</td>\n",
       "      <td>5</td>\n",
       "      <td>2004</td>\n",
       "    </tr>\n",
       "    <tr>\n",
       "      <th>3</th>\n",
       "      <td>2004-05-09</td>\n",
       "      <td>2004-05-15</td>\n",
       "      <td>CENTRO OESTE</td>\n",
       "      <td>MATO GROSSO DO SUL</td>\n",
       "      <td>ETANOL HIDRATADO</td>\n",
       "      <td>162</td>\n",
       "      <td>R$/l</td>\n",
       "      <td>1.262</td>\n",
       "      <td>0.070</td>\n",
       "      <td>1.09</td>\n",
       "      <td>1.509</td>\n",
       "      <td>0.432</td>\n",
       "      <td>0.055</td>\n",
       "      <td>0.83</td>\n",
       "      <td>0.119</td>\n",
       "      <td>0.5991</td>\n",
       "      <td>1.22242</td>\n",
       "      <td>0.143</td>\n",
       "      <td>5</td>\n",
       "      <td>2004</td>\n",
       "    </tr>\n",
       "    <tr>\n",
       "      <th>4</th>\n",
       "      <td>2004-05-09</td>\n",
       "      <td>2004-05-15</td>\n",
       "      <td>NORDESTE</td>\n",
       "      <td>ALAGOAS</td>\n",
       "      <td>ETANOL HIDRATADO</td>\n",
       "      <td>103</td>\n",
       "      <td>R$/l</td>\n",
       "      <td>1.181</td>\n",
       "      <td>0.078</td>\n",
       "      <td>1.05</td>\n",
       "      <td>1.400</td>\n",
       "      <td>0.24</td>\n",
       "      <td>0.066</td>\n",
       "      <td>0.941</td>\n",
       "      <td>0.077</td>\n",
       "      <td>0.7441</td>\n",
       "      <td>1.0317</td>\n",
       "      <td>0.082</td>\n",
       "      <td>5</td>\n",
       "      <td>2004</td>\n",
       "    </tr>\n",
       "  </tbody>\n",
       "</table>\n",
       "</div>"
      ],
      "text/plain": [
       "  DATA INICIAL DATA FINAL        REGIÃO              ESTADO           PRODUTO  \\\n",
       "0   2004-05-09 2004-05-15  CENTRO OESTE    DISTRITO FEDERAL  ETANOL HIDRATADO   \n",
       "1   2004-05-09 2004-05-15  CENTRO OESTE               GOIAS  ETANOL HIDRATADO   \n",
       "2   2004-05-09 2004-05-15  CENTRO OESTE         MATO GROSSO  ETANOL HIDRATADO   \n",
       "3   2004-05-09 2004-05-15  CENTRO OESTE  MATO GROSSO DO SUL  ETANOL HIDRATADO   \n",
       "4   2004-05-09 2004-05-15      NORDESTE             ALAGOAS  ETANOL HIDRATADO   \n",
       "\n",
       "   NÚMERO DE POSTOS PESQUISADOS UNIDADE DE MEDIDA  PREÇO MÉDIO REVENDA  \\\n",
       "0                           127              R$/l                1.288   \n",
       "1                           387              R$/l                1.162   \n",
       "2                           192              R$/l                1.389   \n",
       "3                           162              R$/l                1.262   \n",
       "4                           103              R$/l                1.181   \n",
       "\n",
       "   DESVIO PADRÃO REVENDA  PREÇO MÍNIMO REVENDA  PREÇO MÁXIMO REVENDA  \\\n",
       "0                  0.016                  1.19                 1.350   \n",
       "1                  0.114                  0.89                 1.449   \n",
       "2                  0.097                  1.18                 1.760   \n",
       "3                  0.070                  1.09                 1.509   \n",
       "4                  0.078                  1.05                 1.400   \n",
       "\n",
       "  MARGEM MÉDIA REVENDA  COEF DE VARIAÇÃO REVENDA PREÇO MÉDIO DISTRIBUIÇÃO  \\\n",
       "0                0.463                     0.012                    0.825   \n",
       "1                0.399                     0.098                    0.763   \n",
       "2                0.419                     0.070                     0.97   \n",
       "3                0.432                     0.055                     0.83   \n",
       "4                 0.24                     0.066                    0.941   \n",
       "\n",
       "  DESVIO PADRÃO DISTRIBUIÇÃO PREÇO MÍNIMO DISTRIBUIÇÃO  \\\n",
       "0                       0.11                    0.4201   \n",
       "1                      0.088                    0.5013   \n",
       "2                      0.095                    0.5614   \n",
       "3                      0.119                    0.5991   \n",
       "4                      0.077                    0.7441   \n",
       "\n",
       "  PREÇO MÁXIMO DISTRIBUIÇÃO COEF DE VARIAÇÃO DISTRIBUIÇÃO  MÊS   ANO  \n",
       "0                    0.9666                         0.133    5  2004  \n",
       "1                      1.05                         0.115    5  2004  \n",
       "2                     1.161                         0.098    5  2004  \n",
       "3                   1.22242                         0.143    5  2004  \n",
       "4                    1.0317                         0.082    5  2004  "
      ]
     },
     "execution_count": 4,
     "metadata": {},
     "output_type": "execute_result"
    }
   ],
   "source": [
    "data.head()"
   ]
  },
  {
   "cell_type": "markdown",
   "metadata": {},
   "source": [
    "First is to rename the column names back to English "
   ]
  },
  {
   "cell_type": "code",
   "execution_count": 5,
   "metadata": {},
   "outputs": [
    {
     "data": {
      "text/plain": [
       "Index(['DATA INICIAL', 'DATA FINAL', 'REGIÃO', 'ESTADO', 'PRODUTO',\n",
       "       'NÚMERO DE POSTOS PESQUISADOS', 'UNIDADE DE MEDIDA',\n",
       "       'PREÇO MÉDIO REVENDA', 'DESVIO PADRÃO REVENDA', 'PREÇO MÍNIMO REVENDA',\n",
       "       'PREÇO MÁXIMO REVENDA', 'MARGEM MÉDIA REVENDA',\n",
       "       'COEF DE VARIAÇÃO REVENDA', 'PREÇO MÉDIO DISTRIBUIÇÃO',\n",
       "       'DESVIO PADRÃO DISTRIBUIÇÃO', 'PREÇO MÍNIMO DISTRIBUIÇÃO',\n",
       "       'PREÇO MÁXIMO DISTRIBUIÇÃO', 'COEF DE VARIAÇÃO DISTRIBUIÇÃO', 'MÊS',\n",
       "       'ANO'],\n",
       "      dtype='object')"
      ]
     },
     "execution_count": 5,
     "metadata": {},
     "output_type": "execute_result"
    }
   ],
   "source": [
    "data.columns"
   ]
  },
  {
   "cell_type": "code",
   "execution_count": 6,
   "metadata": {},
   "outputs": [],
   "source": [
    "data.rename(columns={'DATA INICIAL':'date_first', \n",
    "                     'DATA FINAL':'date_last',\n",
    "                     'REGIÃO':'macro_region',\n",
    "                     'ESTADO':'state',\n",
    "                     'PRODUTO':'product',\n",
    "                     'NÚMERO DE POSTOS PESQUISADOS':'num_gas_station', \n",
    "                     'UNIDADE DE MEDIDA':'unit',\n",
    "                     'PREÇO MÉDIO REVENDA':'mean_mkt_value',\n",
    "                     'DESVIO PADRÃO REVENDA':'sd',\n",
    "                     'PREÇO MÍNIMO REVENDA':'min_price',\n",
    "                     'PREÇO MÁXIMO REVENDA':'max_price',\n",
    "                     'MARGEM MÉDIA REVENDA':'mean_price_margin',\n",
    "                     'COEF DE VARIAÇÃO REVENDA':'coef_var',\n",
    "                     'PREÇO MÉDIO DISTRIBUIÇÃO':'mean_dist_price',\n",
    "                     'DESVIO PADRÃO DISTRIBUIÇÃO':'dist_sd',\n",
    "                     'PREÇO MÍNIMO DISTRIBUIÇÃO':'dist_min_price',\n",
    "                     'PREÇO MÁXIMO DISTRIBUIÇÃO':'dist_max_price',\n",
    "                     'COEF DE VARIAÇÃO DISTRIBUIÇÃO':'dist_coef_var',\n",
    "                     'MÊS':'month',\n",
    "                     'ANO':'year'}\n",
    "            , inplace=True)"
   ]
  },
  {
   "cell_type": "code",
   "execution_count": 7,
   "metadata": {},
   "outputs": [
    {
     "data": {
      "text/html": [
       "<div>\n",
       "<style scoped>\n",
       "    .dataframe tbody tr th:only-of-type {\n",
       "        vertical-align: middle;\n",
       "    }\n",
       "\n",
       "    .dataframe tbody tr th {\n",
       "        vertical-align: top;\n",
       "    }\n",
       "\n",
       "    .dataframe thead th {\n",
       "        text-align: right;\n",
       "    }\n",
       "</style>\n",
       "<table border=\"1\" class=\"dataframe\">\n",
       "  <thead>\n",
       "    <tr style=\"text-align: right;\">\n",
       "      <th></th>\n",
       "      <th>date_first</th>\n",
       "      <th>date_last</th>\n",
       "      <th>macro_region</th>\n",
       "      <th>state</th>\n",
       "      <th>product</th>\n",
       "      <th>num_gas_station</th>\n",
       "      <th>unit</th>\n",
       "      <th>mean_mkt_value</th>\n",
       "      <th>sd</th>\n",
       "      <th>min_price</th>\n",
       "      <th>max_price</th>\n",
       "      <th>mean_price_margin</th>\n",
       "      <th>coef_var</th>\n",
       "      <th>mean_dist_price</th>\n",
       "      <th>dist_sd</th>\n",
       "      <th>dist_min_price</th>\n",
       "      <th>dist_max_price</th>\n",
       "      <th>dist_coef_var</th>\n",
       "      <th>month</th>\n",
       "      <th>year</th>\n",
       "    </tr>\n",
       "  </thead>\n",
       "  <tbody>\n",
       "    <tr>\n",
       "      <th>0</th>\n",
       "      <td>2004-05-09</td>\n",
       "      <td>2004-05-15</td>\n",
       "      <td>CENTRO OESTE</td>\n",
       "      <td>DISTRITO FEDERAL</td>\n",
       "      <td>ETANOL HIDRATADO</td>\n",
       "      <td>127</td>\n",
       "      <td>R$/l</td>\n",
       "      <td>1.288</td>\n",
       "      <td>0.016</td>\n",
       "      <td>1.19</td>\n",
       "      <td>1.350</td>\n",
       "      <td>0.463</td>\n",
       "      <td>0.012</td>\n",
       "      <td>0.825</td>\n",
       "      <td>0.11</td>\n",
       "      <td>0.4201</td>\n",
       "      <td>0.9666</td>\n",
       "      <td>0.133</td>\n",
       "      <td>5</td>\n",
       "      <td>2004</td>\n",
       "    </tr>\n",
       "    <tr>\n",
       "      <th>1</th>\n",
       "      <td>2004-05-09</td>\n",
       "      <td>2004-05-15</td>\n",
       "      <td>CENTRO OESTE</td>\n",
       "      <td>GOIAS</td>\n",
       "      <td>ETANOL HIDRATADO</td>\n",
       "      <td>387</td>\n",
       "      <td>R$/l</td>\n",
       "      <td>1.162</td>\n",
       "      <td>0.114</td>\n",
       "      <td>0.89</td>\n",
       "      <td>1.449</td>\n",
       "      <td>0.399</td>\n",
       "      <td>0.098</td>\n",
       "      <td>0.763</td>\n",
       "      <td>0.088</td>\n",
       "      <td>0.5013</td>\n",
       "      <td>1.05</td>\n",
       "      <td>0.115</td>\n",
       "      <td>5</td>\n",
       "      <td>2004</td>\n",
       "    </tr>\n",
       "    <tr>\n",
       "      <th>2</th>\n",
       "      <td>2004-05-09</td>\n",
       "      <td>2004-05-15</td>\n",
       "      <td>CENTRO OESTE</td>\n",
       "      <td>MATO GROSSO</td>\n",
       "      <td>ETANOL HIDRATADO</td>\n",
       "      <td>192</td>\n",
       "      <td>R$/l</td>\n",
       "      <td>1.389</td>\n",
       "      <td>0.097</td>\n",
       "      <td>1.18</td>\n",
       "      <td>1.760</td>\n",
       "      <td>0.419</td>\n",
       "      <td>0.070</td>\n",
       "      <td>0.97</td>\n",
       "      <td>0.095</td>\n",
       "      <td>0.5614</td>\n",
       "      <td>1.161</td>\n",
       "      <td>0.098</td>\n",
       "      <td>5</td>\n",
       "      <td>2004</td>\n",
       "    </tr>\n",
       "    <tr>\n",
       "      <th>3</th>\n",
       "      <td>2004-05-09</td>\n",
       "      <td>2004-05-15</td>\n",
       "      <td>CENTRO OESTE</td>\n",
       "      <td>MATO GROSSO DO SUL</td>\n",
       "      <td>ETANOL HIDRATADO</td>\n",
       "      <td>162</td>\n",
       "      <td>R$/l</td>\n",
       "      <td>1.262</td>\n",
       "      <td>0.070</td>\n",
       "      <td>1.09</td>\n",
       "      <td>1.509</td>\n",
       "      <td>0.432</td>\n",
       "      <td>0.055</td>\n",
       "      <td>0.83</td>\n",
       "      <td>0.119</td>\n",
       "      <td>0.5991</td>\n",
       "      <td>1.22242</td>\n",
       "      <td>0.143</td>\n",
       "      <td>5</td>\n",
       "      <td>2004</td>\n",
       "    </tr>\n",
       "    <tr>\n",
       "      <th>4</th>\n",
       "      <td>2004-05-09</td>\n",
       "      <td>2004-05-15</td>\n",
       "      <td>NORDESTE</td>\n",
       "      <td>ALAGOAS</td>\n",
       "      <td>ETANOL HIDRATADO</td>\n",
       "      <td>103</td>\n",
       "      <td>R$/l</td>\n",
       "      <td>1.181</td>\n",
       "      <td>0.078</td>\n",
       "      <td>1.05</td>\n",
       "      <td>1.400</td>\n",
       "      <td>0.24</td>\n",
       "      <td>0.066</td>\n",
       "      <td>0.941</td>\n",
       "      <td>0.077</td>\n",
       "      <td>0.7441</td>\n",
       "      <td>1.0317</td>\n",
       "      <td>0.082</td>\n",
       "      <td>5</td>\n",
       "      <td>2004</td>\n",
       "    </tr>\n",
       "  </tbody>\n",
       "</table>\n",
       "</div>"
      ],
      "text/plain": [
       "  date_first  date_last  macro_region               state           product  \\\n",
       "0 2004-05-09 2004-05-15  CENTRO OESTE    DISTRITO FEDERAL  ETANOL HIDRATADO   \n",
       "1 2004-05-09 2004-05-15  CENTRO OESTE               GOIAS  ETANOL HIDRATADO   \n",
       "2 2004-05-09 2004-05-15  CENTRO OESTE         MATO GROSSO  ETANOL HIDRATADO   \n",
       "3 2004-05-09 2004-05-15  CENTRO OESTE  MATO GROSSO DO SUL  ETANOL HIDRATADO   \n",
       "4 2004-05-09 2004-05-15      NORDESTE             ALAGOAS  ETANOL HIDRATADO   \n",
       "\n",
       "   num_gas_station  unit  mean_mkt_value     sd  min_price  max_price  \\\n",
       "0              127  R$/l           1.288  0.016       1.19      1.350   \n",
       "1              387  R$/l           1.162  0.114       0.89      1.449   \n",
       "2              192  R$/l           1.389  0.097       1.18      1.760   \n",
       "3              162  R$/l           1.262  0.070       1.09      1.509   \n",
       "4              103  R$/l           1.181  0.078       1.05      1.400   \n",
       "\n",
       "  mean_price_margin  coef_var mean_dist_price dist_sd dist_min_price  \\\n",
       "0             0.463     0.012           0.825    0.11         0.4201   \n",
       "1             0.399     0.098           0.763   0.088         0.5013   \n",
       "2             0.419     0.070            0.97   0.095         0.5614   \n",
       "3             0.432     0.055            0.83   0.119         0.5991   \n",
       "4              0.24     0.066           0.941   0.077         0.7441   \n",
       "\n",
       "  dist_max_price dist_coef_var  month  year  \n",
       "0         0.9666         0.133      5  2004  \n",
       "1           1.05         0.115      5  2004  \n",
       "2          1.161         0.098      5  2004  \n",
       "3        1.22242         0.143      5  2004  \n",
       "4         1.0317         0.082      5  2004  "
      ]
     },
     "execution_count": 7,
     "metadata": {},
     "output_type": "execute_result"
    }
   ],
   "source": [
    "data.head()"
   ]
  },
  {
   "cell_type": "markdown",
   "metadata": {},
   "source": [
    "Next is to check the dataset. This includes data cleaning and reformating"
   ]
  },
  {
   "cell_type": "code",
   "execution_count": 8,
   "metadata": {},
   "outputs": [
    {
     "name": "stdout",
     "output_type": "stream",
     "text": [
      "date_first 785\n",
      "date_last 785\n",
      "macro_region 5\n",
      "state 27\n",
      "product 6\n",
      "num_gas_station 2219\n",
      "unit 3\n",
      "mean_mkt_value 18612\n",
      "sd 6341\n",
      "min_price 2047\n",
      "max_price 2078\n",
      "mean_price_margin 11930\n",
      "coef_var 210\n",
      "mean_dist_price 15997\n",
      "dist_sd 5858\n",
      "dist_min_price 21620\n",
      "dist_max_price 22576\n",
      "dist_coef_var 397\n",
      "month 12\n",
      "year 16\n"
     ]
    }
   ],
   "source": [
    "for i in list(data.columns):\n",
    "    print(i,len(set(data[i])))"
   ]
  },
  {
   "cell_type": "markdown",
   "metadata": {},
   "source": [
    "So all columns have data variations. "
   ]
  },
  {
   "cell_type": "code",
   "execution_count": 9,
   "metadata": {},
   "outputs": [
    {
     "data": {
      "text/plain": [
       "date_first           False\n",
       "date_last            False\n",
       "macro_region         False\n",
       "state                False\n",
       "product              False\n",
       "num_gas_station      False\n",
       "unit                 False\n",
       "mean_mkt_value       False\n",
       "sd                   False\n",
       "min_price            False\n",
       "max_price            False\n",
       "mean_price_margin    False\n",
       "coef_var             False\n",
       "mean_dist_price      False\n",
       "dist_sd              False\n",
       "dist_min_price       False\n",
       "dist_max_price       False\n",
       "dist_coef_var        False\n",
       "month                False\n",
       "year                 False\n",
       "dtype: bool"
      ]
     },
     "execution_count": 9,
     "metadata": {},
     "output_type": "execute_result"
    }
   ],
   "source": [
    "data.isnull().any()"
   ]
  },
  {
   "cell_type": "markdown",
   "metadata": {},
   "source": [
    "There is no missing data in the dataset "
   ]
  },
  {
   "cell_type": "code",
   "execution_count": 10,
   "metadata": {
    "scrolled": true
   },
   "outputs": [
    {
     "name": "stdout",
     "output_type": "stream",
     "text": [
      "<class 'pandas.core.frame.DataFrame'>\n",
      "Int64Index: 106823 entries, 0 to 106822\n",
      "Data columns (total 20 columns):\n",
      "date_first           106823 non-null datetime64[ns]\n",
      "date_last            106823 non-null datetime64[ns]\n",
      "macro_region         106823 non-null object\n",
      "state                106823 non-null object\n",
      "product              106823 non-null object\n",
      "num_gas_station      106823 non-null int64\n",
      "unit                 106823 non-null object\n",
      "mean_mkt_value       106823 non-null float64\n",
      "sd                   106823 non-null float64\n",
      "min_price            106823 non-null float64\n",
      "max_price            106823 non-null float64\n",
      "mean_price_margin    106823 non-null object\n",
      "coef_var             106823 non-null float64\n",
      "mean_dist_price      106823 non-null object\n",
      "dist_sd              106823 non-null object\n",
      "dist_min_price       106823 non-null object\n",
      "dist_max_price       106823 non-null object\n",
      "dist_coef_var        106823 non-null object\n",
      "month                106823 non-null int64\n",
      "year                 106823 non-null int64\n",
      "dtypes: datetime64[ns](2), float64(5), int64(3), object(10)\n",
      "memory usage: 17.1+ MB\n"
     ]
    }
   ],
   "source": [
    "data.info()"
   ]
  },
  {
   "cell_type": "markdown",
   "metadata": {},
   "source": [
    "There are some columns showing dtypes = object but they contain numerical values. Therefore it is necessary to change their dtypes back to float64"
   ]
  },
  {
   "cell_type": "code",
   "execution_count": 11,
   "metadata": {},
   "outputs": [],
   "source": [
    "for col in ['mean_price_margin','mean_dist_price','dist_sd','dist_min_price','dist_max_price','dist_coef_var']:\n",
    "    data[col]=pd.to_numeric(data[col],errors='coerce')"
   ]
  },
  {
   "cell_type": "code",
   "execution_count": 12,
   "metadata": {},
   "outputs": [
    {
     "name": "stdout",
     "output_type": "stream",
     "text": [
      "<class 'pandas.core.frame.DataFrame'>\n",
      "Int64Index: 106823 entries, 0 to 106822\n",
      "Data columns (total 20 columns):\n",
      "date_first           106823 non-null datetime64[ns]\n",
      "date_last            106823 non-null datetime64[ns]\n",
      "macro_region         106823 non-null object\n",
      "state                106823 non-null object\n",
      "product              106823 non-null object\n",
      "num_gas_station      106823 non-null int64\n",
      "unit                 106823 non-null object\n",
      "mean_mkt_value       106823 non-null float64\n",
      "sd                   106823 non-null float64\n",
      "min_price            106823 non-null float64\n",
      "max_price            106823 non-null float64\n",
      "mean_price_margin    103392 non-null float64\n",
      "coef_var             106823 non-null float64\n",
      "mean_dist_price      103423 non-null float64\n",
      "dist_sd              103423 non-null float64\n",
      "dist_min_price       103423 non-null float64\n",
      "dist_max_price       103423 non-null float64\n",
      "dist_coef_var        103423 non-null float64\n",
      "month                106823 non-null int64\n",
      "year                 106823 non-null int64\n",
      "dtypes: datetime64[ns](2), float64(11), int64(3), object(4)\n",
      "memory usage: 17.1+ MB\n"
     ]
    }
   ],
   "source": [
    "data.info()"
   ]
  },
  {
   "cell_type": "markdown",
   "metadata": {},
   "source": [
    "Since modification is carried, check if any missing values again "
   ]
  },
  {
   "cell_type": "code",
   "execution_count": 13,
   "metadata": {},
   "outputs": [
    {
     "data": {
      "text/plain": [
       "date_first           False\n",
       "date_last            False\n",
       "macro_region         False\n",
       "state                False\n",
       "product              False\n",
       "num_gas_station      False\n",
       "unit                 False\n",
       "mean_mkt_value       False\n",
       "sd                   False\n",
       "min_price            False\n",
       "max_price            False\n",
       "mean_price_margin     True\n",
       "coef_var             False\n",
       "mean_dist_price       True\n",
       "dist_sd               True\n",
       "dist_min_price        True\n",
       "dist_max_price        True\n",
       "dist_coef_var         True\n",
       "month                False\n",
       "year                 False\n",
       "dtype: bool"
      ]
     },
     "execution_count": 13,
     "metadata": {},
     "output_type": "execute_result"
    }
   ],
   "source": [
    "data.isnull().any()"
   ]
  },
  {
   "cell_type": "markdown",
   "metadata": {},
   "source": [
    "So there are some missing values after conversion.\n",
    "<br>Next is to check the number of missing records and determine if these records are removed or the whole columns is removed"
   ]
  },
  {
   "cell_type": "code",
   "execution_count": 14,
   "metadata": {},
   "outputs": [
    {
     "data": {
      "text/plain": [
       "date_first              0\n",
       "date_last               0\n",
       "macro_region            0\n",
       "state                   0\n",
       "product                 0\n",
       "num_gas_station         0\n",
       "unit                    0\n",
       "mean_mkt_value          0\n",
       "sd                      0\n",
       "min_price               0\n",
       "max_price               0\n",
       "mean_price_margin    3431\n",
       "coef_var                0\n",
       "mean_dist_price      3400\n",
       "dist_sd              3400\n",
       "dist_min_price       3400\n",
       "dist_max_price       3400\n",
       "dist_coef_var        3400\n",
       "month                   0\n",
       "year                    0\n",
       "dtype: int64"
      ]
     },
     "execution_count": 14,
     "metadata": {},
     "output_type": "execute_result"
    }
   ],
   "source": [
    "data.isnull().sum()"
   ]
  },
  {
   "cell_type": "code",
   "execution_count": 15,
   "metadata": {},
   "outputs": [
    {
     "data": {
      "text/plain": [
       "3431"
      ]
     },
     "execution_count": 15,
     "metadata": {},
     "output_type": "execute_result"
    }
   ],
   "source": [
    "data.isnull().any(axis=1).sum()"
   ]
  },
  {
   "cell_type": "markdown",
   "metadata": {},
   "source": [
    "So there are in total around 3% of records with missing records. So it is safe to remove these row records without harming the overall dataset\n",
    "<br>Next step is to remove rows with missing records "
   ]
  },
  {
   "cell_type": "code",
   "execution_count": 16,
   "metadata": {},
   "outputs": [],
   "source": [
    "data.dropna(inplace=True)"
   ]
  },
  {
   "cell_type": "code",
   "execution_count": 17,
   "metadata": {},
   "outputs": [
    {
     "data": {
      "text/plain": [
       "(103392, 20)"
      ]
     },
     "execution_count": 17,
     "metadata": {},
     "output_type": "execute_result"
    }
   ],
   "source": [
    "data.shape"
   ]
  },
  {
   "cell_type": "markdown",
   "metadata": {},
   "source": [
    "There are 103392 records with 20 columns "
   ]
  },
  {
   "cell_type": "code",
   "execution_count": 18,
   "metadata": {},
   "outputs": [
    {
     "data": {
      "text/html": [
       "<div>\n",
       "<style scoped>\n",
       "    .dataframe tbody tr th:only-of-type {\n",
       "        vertical-align: middle;\n",
       "    }\n",
       "\n",
       "    .dataframe tbody tr th {\n",
       "        vertical-align: top;\n",
       "    }\n",
       "\n",
       "    .dataframe thead th {\n",
       "        text-align: right;\n",
       "    }\n",
       "</style>\n",
       "<table border=\"1\" class=\"dataframe\">\n",
       "  <thead>\n",
       "    <tr style=\"text-align: right;\">\n",
       "      <th></th>\n",
       "      <th>date_first</th>\n",
       "      <th>date_last</th>\n",
       "      <th>macro_region</th>\n",
       "      <th>state</th>\n",
       "      <th>product</th>\n",
       "      <th>num_gas_station</th>\n",
       "      <th>unit</th>\n",
       "      <th>mean_mkt_value</th>\n",
       "      <th>sd</th>\n",
       "      <th>min_price</th>\n",
       "      <th>max_price</th>\n",
       "      <th>mean_price_margin</th>\n",
       "      <th>coef_var</th>\n",
       "      <th>mean_dist_price</th>\n",
       "      <th>dist_sd</th>\n",
       "      <th>dist_min_price</th>\n",
       "      <th>dist_max_price</th>\n",
       "      <th>dist_coef_var</th>\n",
       "      <th>month</th>\n",
       "      <th>year</th>\n",
       "    </tr>\n",
       "  </thead>\n",
       "  <tbody>\n",
       "    <tr>\n",
       "      <th>0</th>\n",
       "      <td>2004-05-09</td>\n",
       "      <td>2004-05-15</td>\n",
       "      <td>CENTRO OESTE</td>\n",
       "      <td>DISTRITO FEDERAL</td>\n",
       "      <td>ETANOL HIDRATADO</td>\n",
       "      <td>127</td>\n",
       "      <td>R$/l</td>\n",
       "      <td>1.288</td>\n",
       "      <td>0.016</td>\n",
       "      <td>1.19</td>\n",
       "      <td>1.350</td>\n",
       "      <td>0.463</td>\n",
       "      <td>0.012</td>\n",
       "      <td>0.825</td>\n",
       "      <td>0.110</td>\n",
       "      <td>0.4201</td>\n",
       "      <td>0.96660</td>\n",
       "      <td>0.133</td>\n",
       "      <td>5</td>\n",
       "      <td>2004</td>\n",
       "    </tr>\n",
       "    <tr>\n",
       "      <th>1</th>\n",
       "      <td>2004-05-09</td>\n",
       "      <td>2004-05-15</td>\n",
       "      <td>CENTRO OESTE</td>\n",
       "      <td>GOIAS</td>\n",
       "      <td>ETANOL HIDRATADO</td>\n",
       "      <td>387</td>\n",
       "      <td>R$/l</td>\n",
       "      <td>1.162</td>\n",
       "      <td>0.114</td>\n",
       "      <td>0.89</td>\n",
       "      <td>1.449</td>\n",
       "      <td>0.399</td>\n",
       "      <td>0.098</td>\n",
       "      <td>0.763</td>\n",
       "      <td>0.088</td>\n",
       "      <td>0.5013</td>\n",
       "      <td>1.05000</td>\n",
       "      <td>0.115</td>\n",
       "      <td>5</td>\n",
       "      <td>2004</td>\n",
       "    </tr>\n",
       "    <tr>\n",
       "      <th>2</th>\n",
       "      <td>2004-05-09</td>\n",
       "      <td>2004-05-15</td>\n",
       "      <td>CENTRO OESTE</td>\n",
       "      <td>MATO GROSSO</td>\n",
       "      <td>ETANOL HIDRATADO</td>\n",
       "      <td>192</td>\n",
       "      <td>R$/l</td>\n",
       "      <td>1.389</td>\n",
       "      <td>0.097</td>\n",
       "      <td>1.18</td>\n",
       "      <td>1.760</td>\n",
       "      <td>0.419</td>\n",
       "      <td>0.070</td>\n",
       "      <td>0.970</td>\n",
       "      <td>0.095</td>\n",
       "      <td>0.5614</td>\n",
       "      <td>1.16100</td>\n",
       "      <td>0.098</td>\n",
       "      <td>5</td>\n",
       "      <td>2004</td>\n",
       "    </tr>\n",
       "    <tr>\n",
       "      <th>3</th>\n",
       "      <td>2004-05-09</td>\n",
       "      <td>2004-05-15</td>\n",
       "      <td>CENTRO OESTE</td>\n",
       "      <td>MATO GROSSO DO SUL</td>\n",
       "      <td>ETANOL HIDRATADO</td>\n",
       "      <td>162</td>\n",
       "      <td>R$/l</td>\n",
       "      <td>1.262</td>\n",
       "      <td>0.070</td>\n",
       "      <td>1.09</td>\n",
       "      <td>1.509</td>\n",
       "      <td>0.432</td>\n",
       "      <td>0.055</td>\n",
       "      <td>0.830</td>\n",
       "      <td>0.119</td>\n",
       "      <td>0.5991</td>\n",
       "      <td>1.22242</td>\n",
       "      <td>0.143</td>\n",
       "      <td>5</td>\n",
       "      <td>2004</td>\n",
       "    </tr>\n",
       "    <tr>\n",
       "      <th>4</th>\n",
       "      <td>2004-05-09</td>\n",
       "      <td>2004-05-15</td>\n",
       "      <td>NORDESTE</td>\n",
       "      <td>ALAGOAS</td>\n",
       "      <td>ETANOL HIDRATADO</td>\n",
       "      <td>103</td>\n",
       "      <td>R$/l</td>\n",
       "      <td>1.181</td>\n",
       "      <td>0.078</td>\n",
       "      <td>1.05</td>\n",
       "      <td>1.400</td>\n",
       "      <td>0.240</td>\n",
       "      <td>0.066</td>\n",
       "      <td>0.941</td>\n",
       "      <td>0.077</td>\n",
       "      <td>0.7441</td>\n",
       "      <td>1.03170</td>\n",
       "      <td>0.082</td>\n",
       "      <td>5</td>\n",
       "      <td>2004</td>\n",
       "    </tr>\n",
       "  </tbody>\n",
       "</table>\n",
       "</div>"
      ],
      "text/plain": [
       "  date_first  date_last  macro_region               state           product  \\\n",
       "0 2004-05-09 2004-05-15  CENTRO OESTE    DISTRITO FEDERAL  ETANOL HIDRATADO   \n",
       "1 2004-05-09 2004-05-15  CENTRO OESTE               GOIAS  ETANOL HIDRATADO   \n",
       "2 2004-05-09 2004-05-15  CENTRO OESTE         MATO GROSSO  ETANOL HIDRATADO   \n",
       "3 2004-05-09 2004-05-15  CENTRO OESTE  MATO GROSSO DO SUL  ETANOL HIDRATADO   \n",
       "4 2004-05-09 2004-05-15      NORDESTE             ALAGOAS  ETANOL HIDRATADO   \n",
       "\n",
       "   num_gas_station  unit  mean_mkt_value     sd  min_price  max_price  \\\n",
       "0              127  R$/l           1.288  0.016       1.19      1.350   \n",
       "1              387  R$/l           1.162  0.114       0.89      1.449   \n",
       "2              192  R$/l           1.389  0.097       1.18      1.760   \n",
       "3              162  R$/l           1.262  0.070       1.09      1.509   \n",
       "4              103  R$/l           1.181  0.078       1.05      1.400   \n",
       "\n",
       "   mean_price_margin  coef_var  mean_dist_price  dist_sd  dist_min_price  \\\n",
       "0              0.463     0.012            0.825    0.110          0.4201   \n",
       "1              0.399     0.098            0.763    0.088          0.5013   \n",
       "2              0.419     0.070            0.970    0.095          0.5614   \n",
       "3              0.432     0.055            0.830    0.119          0.5991   \n",
       "4              0.240     0.066            0.941    0.077          0.7441   \n",
       "\n",
       "   dist_max_price  dist_coef_var  month  year  \n",
       "0         0.96660          0.133      5  2004  \n",
       "1         1.05000          0.115      5  2004  \n",
       "2         1.16100          0.098      5  2004  \n",
       "3         1.22242          0.143      5  2004  \n",
       "4         1.03170          0.082      5  2004  "
      ]
     },
     "execution_count": 18,
     "metadata": {},
     "output_type": "execute_result"
    }
   ],
   "source": [
    "data.head()"
   ]
  },
  {
   "cell_type": "code",
   "execution_count": 19,
   "metadata": {},
   "outputs": [
    {
     "data": {
      "text/html": [
       "<div>\n",
       "<style scoped>\n",
       "    .dataframe tbody tr th:only-of-type {\n",
       "        vertical-align: middle;\n",
       "    }\n",
       "\n",
       "    .dataframe tbody tr th {\n",
       "        vertical-align: top;\n",
       "    }\n",
       "\n",
       "    .dataframe thead th {\n",
       "        text-align: right;\n",
       "    }\n",
       "</style>\n",
       "<table border=\"1\" class=\"dataframe\">\n",
       "  <thead>\n",
       "    <tr style=\"text-align: right;\">\n",
       "      <th></th>\n",
       "      <th>num_gas_station</th>\n",
       "      <th>mean_mkt_value</th>\n",
       "      <th>sd</th>\n",
       "      <th>min_price</th>\n",
       "      <th>max_price</th>\n",
       "      <th>mean_price_margin</th>\n",
       "      <th>coef_var</th>\n",
       "      <th>mean_dist_price</th>\n",
       "      <th>dist_sd</th>\n",
       "      <th>dist_min_price</th>\n",
       "      <th>dist_max_price</th>\n",
       "      <th>dist_coef_var</th>\n",
       "      <th>month</th>\n",
       "      <th>year</th>\n",
       "    </tr>\n",
       "  </thead>\n",
       "  <tbody>\n",
       "    <tr>\n",
       "      <th>count</th>\n",
       "      <td>103392.000000</td>\n",
       "      <td>103392.000000</td>\n",
       "      <td>103392.000000</td>\n",
       "      <td>103392.000000</td>\n",
       "      <td>103392.000000</td>\n",
       "      <td>103392.000000</td>\n",
       "      <td>103392.000000</td>\n",
       "      <td>103392.000000</td>\n",
       "      <td>103392.000000</td>\n",
       "      <td>103392.000000</td>\n",
       "      <td>103392.000000</td>\n",
       "      <td>103392.000000</td>\n",
       "      <td>103392.000000</td>\n",
       "      <td>103392.000000</td>\n",
       "    </tr>\n",
       "    <tr>\n",
       "      <th>mean</th>\n",
       "      <td>240.511935</td>\n",
       "      <td>10.784472</td>\n",
       "      <td>0.652589</td>\n",
       "      <td>9.334931</td>\n",
       "      <td>12.458686</td>\n",
       "      <td>2.225151</td>\n",
       "      <td>0.045749</td>\n",
       "      <td>8.559322</td>\n",
       "      <td>0.559441</td>\n",
       "      <td>7.414814</td>\n",
       "      <td>9.805621</td>\n",
       "      <td>0.046640</td>\n",
       "      <td>6.485067</td>\n",
       "      <td>2011.737001</td>\n",
       "    </tr>\n",
       "    <tr>\n",
       "      <th>std</th>\n",
       "      <td>408.039174</td>\n",
       "      <td>17.685852</td>\n",
       "      <td>1.346422</td>\n",
       "      <td>15.024383</td>\n",
       "      <td>20.801190</td>\n",
       "      <td>4.375085</td>\n",
       "      <td>0.024488</td>\n",
       "      <td>13.603686</td>\n",
       "      <td>1.256914</td>\n",
       "      <td>11.681366</td>\n",
       "      <td>15.933999</td>\n",
       "      <td>0.042114</td>\n",
       "      <td>3.442155</td>\n",
       "      <td>4.410491</td>\n",
       "    </tr>\n",
       "    <tr>\n",
       "      <th>min</th>\n",
       "      <td>1.000000</td>\n",
       "      <td>0.766000</td>\n",
       "      <td>0.000000</td>\n",
       "      <td>0.590000</td>\n",
       "      <td>0.999000</td>\n",
       "      <td>0.001000</td>\n",
       "      <td>0.000000</td>\n",
       "      <td>0.506000</td>\n",
       "      <td>0.000000</td>\n",
       "      <td>0.325700</td>\n",
       "      <td>0.599200</td>\n",
       "      <td>0.000000</td>\n",
       "      <td>1.000000</td>\n",
       "      <td>2004.000000</td>\n",
       "    </tr>\n",
       "    <tr>\n",
       "      <th>25%</th>\n",
       "      <td>47.000000</td>\n",
       "      <td>2.073000</td>\n",
       "      <td>0.073000</td>\n",
       "      <td>1.900000</td>\n",
       "      <td>2.330000</td>\n",
       "      <td>0.282000</td>\n",
       "      <td>0.030000</td>\n",
       "      <td>1.795000</td>\n",
       "      <td>0.047000</td>\n",
       "      <td>1.674400</td>\n",
       "      <td>1.945600</td>\n",
       "      <td>0.021000</td>\n",
       "      <td>4.000000</td>\n",
       "      <td>2008.000000</td>\n",
       "    </tr>\n",
       "    <tr>\n",
       "      <th>50%</th>\n",
       "      <td>108.000000</td>\n",
       "      <td>2.723000</td>\n",
       "      <td>0.115000</td>\n",
       "      <td>2.509000</td>\n",
       "      <td>3.000000</td>\n",
       "      <td>0.383000</td>\n",
       "      <td>0.042000</td>\n",
       "      <td>2.335000</td>\n",
       "      <td>0.077000</td>\n",
       "      <td>2.220000</td>\n",
       "      <td>2.507050</td>\n",
       "      <td>0.031000</td>\n",
       "      <td>6.000000</td>\n",
       "      <td>2012.000000</td>\n",
       "    </tr>\n",
       "    <tr>\n",
       "      <th>75%</th>\n",
       "      <td>251.000000</td>\n",
       "      <td>3.745000</td>\n",
       "      <td>0.190000</td>\n",
       "      <td>3.490000</td>\n",
       "      <td>4.150000</td>\n",
       "      <td>0.560000</td>\n",
       "      <td>0.058000</td>\n",
       "      <td>3.307000</td>\n",
       "      <td>0.151000</td>\n",
       "      <td>3.142800</td>\n",
       "      <td>3.520000</td>\n",
       "      <td>0.061000</td>\n",
       "      <td>9.000000</td>\n",
       "      <td>2016.000000</td>\n",
       "    </tr>\n",
       "    <tr>\n",
       "      <th>max</th>\n",
       "      <td>4167.000000</td>\n",
       "      <td>99.357000</td>\n",
       "      <td>10.748000</td>\n",
       "      <td>90.000000</td>\n",
       "      <td>120.000000</td>\n",
       "      <td>36.847000</td>\n",
       "      <td>0.262000</td>\n",
       "      <td>83.137000</td>\n",
       "      <td>18.385000</td>\n",
       "      <td>83.000000</td>\n",
       "      <td>94.500000</td>\n",
       "      <td>0.780000</td>\n",
       "      <td>12.000000</td>\n",
       "      <td>2019.000000</td>\n",
       "    </tr>\n",
       "  </tbody>\n",
       "</table>\n",
       "</div>"
      ],
      "text/plain": [
       "       num_gas_station  mean_mkt_value             sd      min_price  \\\n",
       "count    103392.000000   103392.000000  103392.000000  103392.000000   \n",
       "mean        240.511935       10.784472       0.652589       9.334931   \n",
       "std         408.039174       17.685852       1.346422      15.024383   \n",
       "min           1.000000        0.766000       0.000000       0.590000   \n",
       "25%          47.000000        2.073000       0.073000       1.900000   \n",
       "50%         108.000000        2.723000       0.115000       2.509000   \n",
       "75%         251.000000        3.745000       0.190000       3.490000   \n",
       "max        4167.000000       99.357000      10.748000      90.000000   \n",
       "\n",
       "           max_price  mean_price_margin       coef_var  mean_dist_price  \\\n",
       "count  103392.000000      103392.000000  103392.000000    103392.000000   \n",
       "mean       12.458686           2.225151       0.045749         8.559322   \n",
       "std        20.801190           4.375085       0.024488        13.603686   \n",
       "min         0.999000           0.001000       0.000000         0.506000   \n",
       "25%         2.330000           0.282000       0.030000         1.795000   \n",
       "50%         3.000000           0.383000       0.042000         2.335000   \n",
       "75%         4.150000           0.560000       0.058000         3.307000   \n",
       "max       120.000000          36.847000       0.262000        83.137000   \n",
       "\n",
       "             dist_sd  dist_min_price  dist_max_price  dist_coef_var  \\\n",
       "count  103392.000000   103392.000000   103392.000000  103392.000000   \n",
       "mean        0.559441        7.414814        9.805621       0.046640   \n",
       "std         1.256914       11.681366       15.933999       0.042114   \n",
       "min         0.000000        0.325700        0.599200       0.000000   \n",
       "25%         0.047000        1.674400        1.945600       0.021000   \n",
       "50%         0.077000        2.220000        2.507050       0.031000   \n",
       "75%         0.151000        3.142800        3.520000       0.061000   \n",
       "max        18.385000       83.000000       94.500000       0.780000   \n",
       "\n",
       "               month           year  \n",
       "count  103392.000000  103392.000000  \n",
       "mean        6.485067    2011.737001  \n",
       "std         3.442155       4.410491  \n",
       "min         1.000000    2004.000000  \n",
       "25%         4.000000    2008.000000  \n",
       "50%         6.000000    2012.000000  \n",
       "75%         9.000000    2016.000000  \n",
       "max        12.000000    2019.000000  "
      ]
     },
     "execution_count": 19,
     "metadata": {},
     "output_type": "execute_result"
    }
   ],
   "source": [
    "data.describe()"
   ]
  },
  {
   "cell_type": "markdown",
   "metadata": {},
   "source": [
    "Now is to answer questions "
   ]
  },
  {
   "cell_type": "markdown",
   "metadata": {},
   "source": [
    "### 1.How different regions of Brazil saw their gas prices change?"
   ]
  },
  {
   "cell_type": "markdown",
   "metadata": {},
   "source": [
    "To show the prices change, first is to compare within the same product and the same unit\n",
    "<br>Therefore first is to know possible sets for products and units "
   ]
  },
  {
   "cell_type": "code",
   "execution_count": 20,
   "metadata": {},
   "outputs": [
    {
     "data": {
      "text/plain": [
       "{('ETANOL HIDRATADO', 'R$/l'),\n",
       " ('GASOLINA COMUM', 'R$/l'),\n",
       " ('GLP', 'R$/13Kg'),\n",
       " ('GNV', 'R$/m3'),\n",
       " ('ÓLEO DIESEL', 'R$/l'),\n",
       " ('ÓLEO DIESEL S10', 'R$/l')}"
      ]
     },
     "execution_count": 20,
     "metadata": {},
     "output_type": "execute_result"
    }
   ],
   "source": [
    "set(zip(data['product'],data['unit']))"
   ]
  },
  {
   "cell_type": "markdown",
   "metadata": {},
   "source": [
    "Products determine unit.\n",
    "<br>So we only need to consider products and then study the price changes"
   ]
  },
  {
   "cell_type": "code",
   "execution_count": 21,
   "metadata": {},
   "outputs": [
    {
     "data": {
      "text/html": [
       "<div>\n",
       "<style scoped>\n",
       "    .dataframe tbody tr th:only-of-type {\n",
       "        vertical-align: middle;\n",
       "    }\n",
       "\n",
       "    .dataframe tbody tr th {\n",
       "        vertical-align: top;\n",
       "    }\n",
       "\n",
       "    .dataframe thead th {\n",
       "        text-align: right;\n",
       "    }\n",
       "</style>\n",
       "<table border=\"1\" class=\"dataframe\">\n",
       "  <thead>\n",
       "    <tr style=\"text-align: right;\">\n",
       "      <th></th>\n",
       "      <th>macro_region</th>\n",
       "      <th>CENTRO OESTE</th>\n",
       "      <th>NORDESTE</th>\n",
       "      <th>NORTE</th>\n",
       "      <th>SUDESTE</th>\n",
       "      <th>SUL</th>\n",
       "    </tr>\n",
       "    <tr>\n",
       "      <th>product</th>\n",
       "      <th>year</th>\n",
       "      <th></th>\n",
       "      <th></th>\n",
       "      <th></th>\n",
       "      <th></th>\n",
       "      <th></th>\n",
       "    </tr>\n",
       "  </thead>\n",
       "  <tbody>\n",
       "    <tr>\n",
       "      <th rowspan=\"5\" valign=\"top\">ETANOL HIDRATADO</th>\n",
       "      <th>2004</th>\n",
       "      <td>1.502309</td>\n",
       "      <td>1.534441</td>\n",
       "      <td>1.736340</td>\n",
       "      <td>1.274912</td>\n",
       "      <td>1.396853</td>\n",
       "    </tr>\n",
       "    <tr>\n",
       "      <th>2005</th>\n",
       "      <td>1.630055</td>\n",
       "      <td>1.711411</td>\n",
       "      <td>1.900175</td>\n",
       "      <td>1.466315</td>\n",
       "      <td>1.611667</td>\n",
       "    </tr>\n",
       "    <tr>\n",
       "      <th>2006</th>\n",
       "      <td>1.880292</td>\n",
       "      <td>1.953212</td>\n",
       "      <td>2.171125</td>\n",
       "      <td>1.794656</td>\n",
       "      <td>1.880478</td>\n",
       "    </tr>\n",
       "    <tr>\n",
       "      <th>2007</th>\n",
       "      <td>1.597981</td>\n",
       "      <td>1.764425</td>\n",
       "      <td>1.948916</td>\n",
       "      <td>1.613649</td>\n",
       "      <td>1.638378</td>\n",
       "    </tr>\n",
       "    <tr>\n",
       "      <th>2008</th>\n",
       "      <td>1.634000</td>\n",
       "      <td>1.793338</td>\n",
       "      <td>1.988585</td>\n",
       "      <td>1.589534</td>\n",
       "      <td>1.628506</td>\n",
       "    </tr>\n",
       "  </tbody>\n",
       "</table>\n",
       "</div>"
      ],
      "text/plain": [
       "macro_region           CENTRO OESTE  NORDESTE     NORTE   SUDESTE       SUL\n",
       "product          year                                                      \n",
       "ETANOL HIDRATADO 2004      1.502309  1.534441  1.736340  1.274912  1.396853\n",
       "                 2005      1.630055  1.711411  1.900175  1.466315  1.611667\n",
       "                 2006      1.880292  1.953212  2.171125  1.794656  1.880478\n",
       "                 2007      1.597981  1.764425  1.948916  1.613649  1.638378\n",
       "                 2008      1.634000  1.793338  1.988585  1.589534  1.628506"
      ]
     },
     "execution_count": 21,
     "metadata": {},
     "output_type": "execute_result"
    }
   ],
   "source": [
    "avg_price_by_prod_region = pd.pivot_table(data,index=['product','year'],columns='macro_region',values='mean_mkt_value',aggfunc=np.mean)\n",
    "avg_price_by_prod_region.head()"
   ]
  },
  {
   "cell_type": "code",
   "execution_count": 22,
   "metadata": {
    "scrolled": false
   },
   "outputs": [
    {
     "data": {
      "image/png": "[encoded data removed]",
      "text/plain": [
       "<Figure size 432x288 with 1 Axes>"
      ]
     },
     "metadata": {
      "needs_background": "light"
     },
     "output_type": "display_data"
    },
    {
     "data": {
      "image/png": "[encoded data removed]",
      "text/plain": [
       "<Figure size 432x288 with 1 Axes>"
      ]
     },
     "metadata": {
      "needs_background": "light"
     },
     "output_type": "display_data"
    },
    {
     "data": {
      "image/png": "[encoded data removed]",
      "text/plain": [
       "<Figure size 432x288 with 1 Axes>"
      ]
     },
     "metadata": {
      "needs_background": "light"
     },
     "output_type": "display_data"
    },
    {
     "data": {
      "image/png": "[encoded data removed]",
      "text/plain": [
       "<Figure size 432x288 with 1 Axes>"
      ]
     },
     "metadata": {
      "needs_background": "light"
     },
     "output_type": "display_data"
    },
    {
     "data": {
      "image/png": "[encoded data removed]",
      "text/plain": [
       "<Figure size 432x288 with 1 Axes>"
      ]
     },
     "metadata": {
      "needs_background": "light"
     },
     "output_type": "display_data"
    },
    {
     "data": {
      "image/png": "[encoded data removed]",
      "text/plain": [
       "<Figure size 432x288 with 1 Axes>"
      ]
     },
     "metadata": {
      "needs_background": "light"
     },
     "output_type": "display_data"
    }
   ],
   "source": [
    "for i in set(avg_price_by_prod_region.index.get_level_values(0)):\n",
    "    sub_table = avg_price_by_prod_region[avg_price_by_prod_region.index.get_level_values(0)==i].reset_index(drop=False)\n",
    "    sub_table =avg_price_by_prod_region[avg_price_by_prod_region.index.get_level_values(0)==i].reset_index(drop=False)\n",
    "    sub_table.drop('product',axis=1,inplace=True)\n",
    "    sub_table.set_index('year').plot()\n",
    "    plt.title('Price change for {}'.format(i))\n",
    "    plt.show()"
   ]
  },
  {
   "cell_type": "markdown",
   "metadata": {},
   "source": [
    "So all gas products raise prices. OLEO DIESEL is the most problematic as the increases are over 130% from 2004 to 2019"
   ]
  },
  {
   "cell_type": "markdown",
   "metadata": {},
   "source": [
    "### 2. Within a region, which states increased more their prices? "
   ]
  },
  {
   "cell_type": "markdown",
   "metadata": {},
   "source": [
    "To answer this question, first is to calculate the increase (in %) for each product in each state within a region\n",
    "<br>Then to calcuclate the average of increase to find the state with highest increase"
   ]
  },
  {
   "cell_type": "code",
   "execution_count": 23,
   "metadata": {},
   "outputs": [
    {
     "data": {
      "text/html": [
       "<div>\n",
       "<style scoped>\n",
       "    .dataframe tbody tr th:only-of-type {\n",
       "        vertical-align: middle;\n",
       "    }\n",
       "\n",
       "    .dataframe tbody tr th {\n",
       "        vertical-align: top;\n",
       "    }\n",
       "\n",
       "    .dataframe thead th {\n",
       "        text-align: right;\n",
       "    }\n",
       "</style>\n",
       "<table border=\"1\" class=\"dataframe\">\n",
       "  <thead>\n",
       "    <tr style=\"text-align: right;\">\n",
       "      <th></th>\n",
       "      <th></th>\n",
       "      <th>product</th>\n",
       "      <th>ETANOL HIDRATADO</th>\n",
       "      <th>GASOLINA COMUM</th>\n",
       "      <th>GLP</th>\n",
       "      <th>GNV</th>\n",
       "      <th>ÓLEO DIESEL</th>\n",
       "      <th>ÓLEO DIESEL S10</th>\n",
       "    </tr>\n",
       "    <tr>\n",
       "      <th>macro_region</th>\n",
       "      <th>state</th>\n",
       "      <th>year</th>\n",
       "      <th></th>\n",
       "      <th></th>\n",
       "      <th></th>\n",
       "      <th></th>\n",
       "      <th></th>\n",
       "      <th></th>\n",
       "    </tr>\n",
       "  </thead>\n",
       "  <tbody>\n",
       "    <tr>\n",
       "      <th rowspan=\"10\" valign=\"top\">CENTRO OESTE</th>\n",
       "      <th rowspan=\"10\" valign=\"top\">DISTRITO FEDERAL</th>\n",
       "      <th>2004</th>\n",
       "      <td>1.554000</td>\n",
       "      <td>2.124676</td>\n",
       "      <td>33.357147</td>\n",
       "      <td>NaN</td>\n",
       "      <td>1.558706</td>\n",
       "      <td>NaN</td>\n",
       "    </tr>\n",
       "    <tr>\n",
       "      <th>2005</th>\n",
       "      <td>1.667460</td>\n",
       "      <td>2.328860</td>\n",
       "      <td>33.548750</td>\n",
       "      <td>NaN</td>\n",
       "      <td>1.752420</td>\n",
       "      <td>NaN</td>\n",
       "    </tr>\n",
       "    <tr>\n",
       "      <th>2006</th>\n",
       "      <td>1.903038</td>\n",
       "      <td>2.596887</td>\n",
       "      <td>35.575804</td>\n",
       "      <td>NaN</td>\n",
       "      <td>1.879302</td>\n",
       "      <td>NaN</td>\n",
       "    </tr>\n",
       "    <tr>\n",
       "      <th>2007</th>\n",
       "      <td>1.695385</td>\n",
       "      <td>2.572481</td>\n",
       "      <td>37.694019</td>\n",
       "      <td>NaN</td>\n",
       "      <td>1.871712</td>\n",
       "      <td>NaN</td>\n",
       "    </tr>\n",
       "    <tr>\n",
       "      <th>2008</th>\n",
       "      <td>1.829788</td>\n",
       "      <td>2.555269</td>\n",
       "      <td>36.975442</td>\n",
       "      <td>NaN</td>\n",
       "      <td>2.015212</td>\n",
       "      <td>NaN</td>\n",
       "    </tr>\n",
       "    <tr>\n",
       "      <th>2009</th>\n",
       "      <td>1.844500</td>\n",
       "      <td>2.681580</td>\n",
       "      <td>38.566658</td>\n",
       "      <td>NaN</td>\n",
       "      <td>2.025840</td>\n",
       "      <td>NaN</td>\n",
       "    </tr>\n",
       "    <tr>\n",
       "      <th>2010</th>\n",
       "      <td>2.022632</td>\n",
       "      <td>2.711458</td>\n",
       "      <td>40.086686</td>\n",
       "      <td>NaN</td>\n",
       "      <td>2.024750</td>\n",
       "      <td>NaN</td>\n",
       "    </tr>\n",
       "    <tr>\n",
       "      <th>2011</th>\n",
       "      <td>2.203250</td>\n",
       "      <td>2.832115</td>\n",
       "      <td>37.313255</td>\n",
       "      <td>NaN</td>\n",
       "      <td>2.069212</td>\n",
       "      <td>NaN</td>\n",
       "    </tr>\n",
       "    <tr>\n",
       "      <th>2012</th>\n",
       "      <td>2.264000</td>\n",
       "      <td>2.835887</td>\n",
       "      <td>37.415568</td>\n",
       "      <td>NaN</td>\n",
       "      <td>2.073792</td>\n",
       "      <td>NaN</td>\n",
       "    </tr>\n",
       "    <tr>\n",
       "      <th>2013</th>\n",
       "      <td>2.278510</td>\n",
       "      <td>2.983731</td>\n",
       "      <td>41.403173</td>\n",
       "      <td>NaN</td>\n",
       "      <td>2.394615</td>\n",
       "      <td>2.605556</td>\n",
       "    </tr>\n",
       "  </tbody>\n",
       "</table>\n",
       "</div>"
      ],
      "text/plain": [
       "product                             ETANOL HIDRATADO  GASOLINA COMUM  \\\n",
       "macro_region state            year                                     \n",
       "CENTRO OESTE DISTRITO FEDERAL 2004          1.554000        2.124676   \n",
       "                              2005          1.667460        2.328860   \n",
       "                              2006          1.903038        2.596887   \n",
       "                              2007          1.695385        2.572481   \n",
       "                              2008          1.829788        2.555269   \n",
       "                              2009          1.844500        2.681580   \n",
       "                              2010          2.022632        2.711458   \n",
       "                              2011          2.203250        2.832115   \n",
       "                              2012          2.264000        2.835887   \n",
       "                              2013          2.278510        2.983731   \n",
       "\n",
       "product                                   GLP  GNV  ÓLEO DIESEL  \\\n",
       "macro_region state            year                                \n",
       "CENTRO OESTE DISTRITO FEDERAL 2004  33.357147  NaN     1.558706   \n",
       "                              2005  33.548750  NaN     1.752420   \n",
       "                              2006  35.575804  NaN     1.879302   \n",
       "                              2007  37.694019  NaN     1.871712   \n",
       "                              2008  36.975442  NaN     2.015212   \n",
       "                              2009  38.566658  NaN     2.025840   \n",
       "                              2010  40.086686  NaN     2.024750   \n",
       "                              2011  37.313255  NaN     2.069212   \n",
       "                              2012  37.415568  NaN     2.073792   \n",
       "                              2013  41.403173  NaN     2.394615   \n",
       "\n",
       "product                             ÓLEO DIESEL S10  \n",
       "macro_region state            year                   \n",
       "CENTRO OESTE DISTRITO FEDERAL 2004              NaN  \n",
       "                              2005              NaN  \n",
       "                              2006              NaN  \n",
       "                              2007              NaN  \n",
       "                              2008              NaN  \n",
       "                              2009              NaN  \n",
       "                              2010              NaN  \n",
       "                              2011              NaN  \n",
       "                              2012              NaN  \n",
       "                              2013         2.605556  "
      ]
     },
     "execution_count": 23,
     "metadata": {},
     "output_type": "execute_result"
    }
   ],
   "source": [
    "avg_price_by_prod_region_states = pd.pivot_table(data,index=['macro_region','state','year'],columns='product',values='mean_mkt_value',aggfunc=np.mean)\n",
    "avg_price_by_prod_region_states.head(10)"
   ]
  },
  {
   "cell_type": "code",
   "execution_count": 24,
   "metadata": {},
   "outputs": [],
   "source": [
    "avg_price_by_prod_region_states.reset_index(drop=False,inplace=True)"
   ]
  },
  {
   "cell_type": "code",
   "execution_count": 25,
   "metadata": {},
   "outputs": [],
   "source": [
    "price_increase = {}\n",
    "\n",
    "for state in set(data['state']):\n",
    "    for prod in set(data['product']):\n",
    "        pct_change = []\n",
    "        price_list = avg_price_by_prod_region_states[avg_price_by_prod_region_states['state']==state][prod]\n",
    "        price_list = price_list[~np.isnan(price_list)]\n",
    "        pct_change.append(price_list.pct_change().mean())\n",
    "    price_increase[state] = np.mean(pct_change)"
   ]
  },
  {
   "cell_type": "code",
   "execution_count": 26,
   "metadata": {},
   "outputs": [],
   "source": [
    "price_increase_df = pd.DataFrame.from_dict(price_increase,orient ='index')\n",
    "price_increase_df.reset_index(drop=False,inplace=True)\n",
    "price_increase_df.columns=['state','price_increase']"
   ]
  },
  {
   "cell_type": "code",
   "execution_count": 34,
   "metadata": {},
   "outputs": [],
   "source": [
    "region_state = pd.DataFrame(set(zip(data['state'],data['macro_region'])),columns=['state','region'])"
   ]
  },
  {
   "cell_type": "code",
   "execution_count": 28,
   "metadata": {},
   "outputs": [],
   "source": [
    "price_increase_result = pd.merge(price_increase_df,region_state,left_on='state',right_on='state')"
   ]
  },
  {
   "cell_type": "code",
   "execution_count": 29,
   "metadata": {},
   "outputs": [
    {
     "data": {
      "text/html": [
       "<div>\n",
       "<style scoped>\n",
       "    .dataframe tbody tr th:only-of-type {\n",
       "        vertical-align: middle;\n",
       "    }\n",
       "\n",
       "    .dataframe tbody tr th {\n",
       "        vertical-align: top;\n",
       "    }\n",
       "\n",
       "    .dataframe thead th {\n",
       "        text-align: right;\n",
       "    }\n",
       "</style>\n",
       "<table border=\"1\" class=\"dataframe\">\n",
       "  <thead>\n",
       "    <tr style=\"text-align: right;\">\n",
       "      <th></th>\n",
       "      <th>state</th>\n",
       "      <th>price_increase</th>\n",
       "      <th>region</th>\n",
       "    </tr>\n",
       "  </thead>\n",
       "  <tbody>\n",
       "    <tr>\n",
       "      <th>17</th>\n",
       "      <td>PIAUI</td>\n",
       "      <td>0.128663</td>\n",
       "      <td>NORDESTE</td>\n",
       "    </tr>\n",
       "    <tr>\n",
       "      <th>11</th>\n",
       "      <td>MINAS GERAIS</td>\n",
       "      <td>0.077546</td>\n",
       "      <td>SUDESTE</td>\n",
       "    </tr>\n",
       "    <tr>\n",
       "      <th>19</th>\n",
       "      <td>RIO GRANDE DO SUL</td>\n",
       "      <td>0.074582</td>\n",
       "      <td>SUL</td>\n",
       "    </tr>\n",
       "    <tr>\n",
       "      <th>3</th>\n",
       "      <td>MATO GROSSO</td>\n",
       "      <td>0.069920</td>\n",
       "      <td>CENTRO OESTE</td>\n",
       "    </tr>\n",
       "    <tr>\n",
       "      <th>18</th>\n",
       "      <td>AMAZONAS</td>\n",
       "      <td>0.066750</td>\n",
       "      <td>NORTE</td>\n",
       "    </tr>\n",
       "  </tbody>\n",
       "</table>\n",
       "</div>"
      ],
      "text/plain": [
       "                state  price_increase        region\n",
       "17              PIAUI        0.128663      NORDESTE\n",
       "11       MINAS GERAIS        0.077546       SUDESTE\n",
       "19  RIO GRANDE DO SUL        0.074582           SUL\n",
       "3         MATO GROSSO        0.069920  CENTRO OESTE\n",
       "18           AMAZONAS        0.066750         NORTE"
      ]
     },
     "execution_count": 29,
     "metadata": {},
     "output_type": "execute_result"
    }
   ],
   "source": [
    "price_increase_result.sort_values('price_increase',ascending=False).drop_duplicates(['region'])"
   ]
  },
  {
   "cell_type": "markdown",
   "metadata": {},
   "source": [
    "Above table shows the state in each region with the highest average price increase for overall products"
   ]
  },
  {
   "cell_type": "markdown",
   "metadata": {},
   "source": [
    "### 3. Which states are the cheapest (or most expensive) for different types of fuels?"
   ]
  },
  {
   "cell_type": "code",
   "execution_count": 30,
   "metadata": {},
   "outputs": [],
   "source": [
    "avg_price_ovreall_by_prod_state = pd.pivot_table(data,index=['state'],columns='product',values='mean_mkt_value',aggfunc=np.mean)"
   ]
  },
  {
   "cell_type": "code",
   "execution_count": 31,
   "metadata": {},
   "outputs": [
    {
     "data": {
      "text/html": [
       "<div>\n",
       "<style scoped>\n",
       "    .dataframe tbody tr th:only-of-type {\n",
       "        vertical-align: middle;\n",
       "    }\n",
       "\n",
       "    .dataframe tbody tr th {\n",
       "        vertical-align: top;\n",
       "    }\n",
       "\n",
       "    .dataframe thead th {\n",
       "        text-align: right;\n",
       "    }\n",
       "</style>\n",
       "<table border=\"1\" class=\"dataframe\">\n",
       "  <thead>\n",
       "    <tr style=\"text-align: right;\">\n",
       "      <th>product</th>\n",
       "      <th>ETANOL HIDRATADO</th>\n",
       "      <th>GASOLINA COMUM</th>\n",
       "      <th>GLP</th>\n",
       "      <th>GNV</th>\n",
       "      <th>ÓLEO DIESEL</th>\n",
       "      <th>ÓLEO DIESEL S10</th>\n",
       "    </tr>\n",
       "    <tr>\n",
       "      <th>state</th>\n",
       "      <th></th>\n",
       "      <th></th>\n",
       "      <th></th>\n",
       "      <th></th>\n",
       "      <th></th>\n",
       "      <th></th>\n",
       "    </tr>\n",
       "  </thead>\n",
       "  <tbody>\n",
       "    <tr>\n",
       "      <th>ACRE</th>\n",
       "      <td>2.681673</td>\n",
       "      <td>3.413656</td>\n",
       "      <td>49.484349</td>\n",
       "      <td>NaN</td>\n",
       "      <td>2.880958</td>\n",
       "      <td>3.657033</td>\n",
       "    </tr>\n",
       "    <tr>\n",
       "      <th>ALAGOAS</th>\n",
       "      <td>2.354700</td>\n",
       "      <td>3.111782</td>\n",
       "      <td>40.426326</td>\n",
       "      <td>1.873809</td>\n",
       "      <td>2.352431</td>\n",
       "      <td>3.054390</td>\n",
       "    </tr>\n",
       "    <tr>\n",
       "      <th>AMAPA</th>\n",
       "      <td>2.272836</td>\n",
       "      <td>2.993395</td>\n",
       "      <td>48.540638</td>\n",
       "      <td>1.598000</td>\n",
       "      <td>2.580703</td>\n",
       "      <td>3.705006</td>\n",
       "    </tr>\n",
       "    <tr>\n",
       "      <th>AMAZONAS</th>\n",
       "      <td>2.411441</td>\n",
       "      <td>3.050145</td>\n",
       "      <td>41.060679</td>\n",
       "      <td>2.088411</td>\n",
       "      <td>2.467423</td>\n",
       "      <td>3.144564</td>\n",
       "    </tr>\n",
       "    <tr>\n",
       "      <th>BAHIA</th>\n",
       "      <td>2.253722</td>\n",
       "      <td>3.059354</td>\n",
       "      <td>40.309791</td>\n",
       "      <td>1.849818</td>\n",
       "      <td>2.311694</td>\n",
       "      <td>3.020062</td>\n",
       "    </tr>\n",
       "  </tbody>\n",
       "</table>\n",
       "</div>"
      ],
      "text/plain": [
       "product   ETANOL HIDRATADO  GASOLINA COMUM        GLP       GNV  ÓLEO DIESEL  \\\n",
       "state                                                                          \n",
       "ACRE              2.681673        3.413656  49.484349       NaN     2.880958   \n",
       "ALAGOAS           2.354700        3.111782  40.426326  1.873809     2.352431   \n",
       "AMAPA             2.272836        2.993395  48.540638  1.598000     2.580703   \n",
       "AMAZONAS          2.411441        3.050145  41.060679  2.088411     2.467423   \n",
       "BAHIA             2.253722        3.059354  40.309791  1.849818     2.311694   \n",
       "\n",
       "product   ÓLEO DIESEL S10  \n",
       "state                      \n",
       "ACRE             3.657033  \n",
       "ALAGOAS          3.054390  \n",
       "AMAPA            3.705006  \n",
       "AMAZONAS         3.144564  \n",
       "BAHIA            3.020062  "
      ]
     },
     "execution_count": 31,
     "metadata": {},
     "output_type": "execute_result"
    }
   ],
   "source": [
    "avg_price_ovreall_by_prod_state.head()"
   ]
  },
  {
   "cell_type": "code",
   "execution_count": 32,
   "metadata": {},
   "outputs": [
    {
     "data": {
      "text/plain": [
       "product\n",
       "ETANOL HIDRATADO             RORAIMA\n",
       "GASOLINA COMUM                  ACRE\n",
       "GLP                      MATO GROSSO\n",
       "GNV                 DISTRITO FEDERAL\n",
       "ÓLEO DIESEL                     ACRE\n",
       "ÓLEO DIESEL S10                AMAPA\n",
       "dtype: object"
      ]
     },
     "execution_count": 32,
     "metadata": {},
     "output_type": "execute_result"
    }
   ],
   "source": [
    "avg_price_ovreall_by_prod_state.idxmax()"
   ]
  },
  {
   "cell_type": "code",
   "execution_count": 33,
   "metadata": {},
   "outputs": [
    {
     "data": {
      "text/plain": [
       "product\n",
       "ETANOL HIDRATADO     SAO PAULO\n",
       "GASOLINA COMUM       SAO PAULO\n",
       "GLP                 PERNAMBUCO\n",
       "GNV                      PIAUI\n",
       "ÓLEO DIESEL             PARANA\n",
       "ÓLEO DIESEL S10         PARANA\n",
       "dtype: object"
      ]
     },
     "execution_count": 33,
     "metadata": {},
     "output_type": "execute_result"
    }
   ],
   "source": [
    "avg_price_ovreall_by_prod_state.idxmin()"
   ]
  },
  {
   "cell_type": "markdown",
   "metadata": {},
   "source": [
    "Sao Paulo and Parana are good places for cheap fuels "
   ]
  },
  {
   "cell_type": "code",
   "execution_count": null,
   "metadata": {},
   "outputs": [],
   "source": []
  }
 ],
 "metadata": {
  "kernelspec": {
   "display_name": "Python 3",
   "language": "python",
   "name": "python3"
  },
  "language_info": {
   "codemirror_mode": {
    "name": "ipython",
    "version": 3
   },
   "file_extension": ".py",
   "mimetype": "text/x-python",
   "name": "python",
   "nbconvert_exporter": "python",
   "pygments_lexer": "ipython3",
   "version": "3.7.3"
  }
 },
 "nbformat": 4,
 "nbformat_minor": 2
}
